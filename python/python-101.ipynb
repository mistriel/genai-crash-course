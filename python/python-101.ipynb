{
 "cells": [
  {
   "metadata": {},
   "cell_type": "markdown",
   "source": "# Python 101",
   "id": "92b5d2bd2a3094aa"
  },
  {
   "metadata": {},
   "cell_type": "markdown",
   "source": "This is a simple Python 101 notebook. It is intended to be a quick reference for Python basics.",
   "id": "ba1ec768d127e637"
  },
  {
   "metadata": {},
   "cell_type": "markdown",
   "source": [
    "## Naming Conventions\n",
    "\n",
    "- Variables: should be in lowercase, with words separated by underscores as necessary to improve readability.\n",
    "- Constants: should be in uppercase, with words separated by underscores as necessary to improve readability.\n",
    "- Functions: should be in lowercase, with words separated by underscores as necessary to improve readability.\n",
    "- Classes: should be in CamelCase, with the first letter of each word capitalized.\n",
    "- Modules: should have short, all-lowercase names. Underscores can be used in the module name if it improves readability.\n",
    "- Packages: should have short, all-lowercase names. Underscores can be used in the package name if it improves readability.\n",
    "\n",
    "\n",
    "Some examples:\n",
    "- Variable: `my_variable`\n",
    "- Constant: `MY_CONSTANT`\n",
    "- Function: `my_function()`, `get_foo()` and `set_foo(`)`.    yes, also getters and setters ;-)\n",
    "- Class: `MyClass`\n",
    "- Module: `my_module`\n",
    "\n",
    "A good practice is to follow [Google Python Style Guide](https://google.github.io/styleguide/pyguide.html#316-naming) for its simplicity and\n",
    "when in doubt, the most authoritative source is [PEP8](https://peps.python.org/pep-0008/)\n",
    "\n",
    "Jupiter Notebook also supports markdown, IBM Reference is a good source for markdown syntax: [IBM Markdown Guide](https://www.ibm.com/docs/en/watson-studio-local/1.2.3?topic=notebooks-markdown-jupyter-cheatsheet)\n",
    "\n",
    "\n",
    "## Indentation\n",
    "Indentation is very important in Python. It is used to define a block of code. The standard indentation is 4 spaces, although tabs and spaces can be used interchangeably as long as they are consistent.\n"
   ],
   "id": "f2de5e2039d6f449"
  },
  {
   "metadata": {
    "ExecuteTime": {
     "end_time": "2025-05-07T16:01:17.447221Z",
     "start_time": "2025-05-07T16:01:17.443593Z"
    }
   },
   "cell_type": "code",
   "source": [
    "name = \"Python\"\n",
    "if len(name) > 3:\n",
    "    print(f\"{name} is long enough.\") # f-string for formatting\n",
    "    print(\"Indentation defines this block.\")\n",
    "else:\n",
    "    print(f\"{name} is short.\")\n",
    "print(\"This is outside the if/else block.\")"
   ],
   "id": "389171166209219a",
   "outputs": [
    {
     "name": "stdout",
     "output_type": "stream",
     "text": [
      "Python is long enough.\n",
      "Indentation defines this block.\n",
      "This is outside the if/else block.\n"
     ]
    }
   ],
   "execution_count": 2
  },
  {
   "metadata": {},
   "cell_type": "markdown",
   "source": "## String Formatting",
   "id": "1069689852f5f08a"
  },
  {
   "metadata": {
    "ExecuteTime": {
     "end_time": "2025-05-07T16:02:13.217347Z",
     "start_time": "2025-05-07T16:02:13.212270Z"
    }
   },
   "cell_type": "code",
   "source": [
    "experience = 3\n",
    "\n",
    "## Line Breaks\n",
    "formatted = (f\"Hi My name is Monty\"\n",
    "             f\" And I'm learning Python for {experience} months\")\n",
    "print(formatted)\n",
    "\n",
    "## Text Block\n",
    "loved_countries = \"\"\"My favorite countries are:\n",
    "{}\n",
    "{}\n",
    "{}\n",
    "\"\"\"\n",
    "print(loved_countries.format(\"Thailand\", \"Zanzibar\", \"USA\"))\n",
    "\n",
    "print(\"My favorite countries are: {0}, {1}, {2}\".format(\"Thailand\", \"Zanzibar\", \"USA\"))\n",
    "\n",
    "## Simple String Concatenation\n",
    "print(\"My favorite countries are:\", \"Thailand\", \"Zanzibar\", \"USA\")\n"
   ],
   "id": "dfea5dd3b3de82db",
   "outputs": [
    {
     "name": "stdout",
     "output_type": "stream",
     "text": [
      "Hi My name is Monty And I'm learning Python for 3 months\n",
      "My favorite countries are:\n",
      "Thailand\n",
      "Zanzibar\n",
      "USA\n",
      "\n",
      "My favorite countries are: Thailand, Zanzibar, USA\n",
      "My favorite countries are: Thailand Zanzibar USA\n"
     ]
    }
   ],
   "execution_count": 3
  },
  {
   "metadata": {},
   "cell_type": "markdown",
   "source": [
    "##  Dynamic Typing  (vs. Static)\n",
    "\n",
    "Python is dynamically typed. Variable types are inferred at runtime, not declared explicitly like in Java (`String name`, `int count`).\n",
    "* A variable can hold different types during its lifetime.\n",
    "* Offers flexibility but requires careful testing to catch type errors that Java's compiler would find.\n",
    "* Optional Type Hinting (var: str = \"hello\") exists for better tooling and readability, but doesn't enforce types at runtime by default."
   ],
   "id": "3737a2cefad9f9b8"
  },
  {
   "metadata": {
    "ExecuteTime": {
     "end_time": "2025-04-06T11:38:53.383068Z",
     "start_time": "2025-04-06T11:38:53.377319Z"
    }
   },
   "cell_type": "code",
   "source": [
    "# Python: Variable type changes at runtime\n",
    "my_var = 10    # my_var is an integer\n",
    "print(f\"Type is: {type(my_var)}, Value: {my_var}\")\n",
    "\n",
    "my_var = \"Hello\"     # Now my_var is a string\n",
    "print(f\"Type is: {type(my_var)}, Value: {my_var}\")\n",
    "\n",
    "my_var = [1, 2, 3]   # Now my_var is a list\n",
    "print(f\"Type is: {type(my_var)}, Value: {my_var}\")\n",
    "\n",
    "my_string: str = \"Hello\" # Optional Type Hinting\n",
    "print(f\"Type is: {type(my_string)}, Value: {my_string}\")\n",
    "\n",
    "my_string = 10 # This will not raise an error, but it is not recommended\n",
    "print(f\"Type is: {type(my_string)}, Value: {my_string}\")"
   ],
   "id": "d151b3bb4258eb85",
   "outputs": [
    {
     "name": "stdout",
     "output_type": "stream",
     "text": [
      "Type is: <class 'int'>, Value: 10\n",
      "Type is: <class 'str'>, Value: Hello\n",
      "Type is: <class 'list'>, Value: [1, 2, 3]\n",
      "Type is: <class 'str'>, Value: Hello\n",
      "Type is: <class 'int'>, Value: 10\n"
     ]
    }
   ],
   "execution_count": 2
  },
  {
   "metadata": {},
   "cell_type": "markdown",
   "source": [
    "## Functions\n",
    "\n",
    "Topics:\n",
    "- [x] positional argument\n",
    "- [X] keyword argument\n",
    "- [X] default argument"
   ],
   "id": "f0cc932b14e120f7"
  },
  {
   "metadata": {
    "ExecuteTime": {
     "end_time": "2025-04-06T11:38:53.900732Z",
     "start_time": "2025-04-06T11:38:53.896517Z"
    }
   },
   "cell_type": "code",
   "source": [
    "def sum_with_discount(price, discount = 50):\n",
    "    return price - (price * discount / 100)\n",
    "\n",
    "price1= sum_with_discount(100, 10) # this is positional argument, where the order of the arguments matters\n",
    "price2= sum_with_discount(discount=10, price=100) # this is keyword argument, where the order of the arguments does not matter\n",
    "price3= sum_with_discount(100) # When the discount is not provided, the default value is used\n",
    "\n",
    "\n",
    "print(price1)\n",
    "print(price2)\n",
    "print(price3)"
   ],
   "id": "dbf4f611fab52d27",
   "outputs": [
    {
     "name": "stdout",
     "output_type": "stream",
     "text": [
      "90.0\n",
      "90.0\n",
      "50.0\n"
     ]
    }
   ],
   "execution_count": 3
  },
  {
   "metadata": {},
   "cell_type": "markdown",
   "source": [
    "## Lists, Tuples, and Dictionaries\n",
    "Python has powerful, easy-to-use built-in collection types.\n",
    "\n",
    "|            | Definition | Ordered | Mutable | Indexed | Duplicates | Similarity |\n",
    "|------------|------------|---------|---------|---------|:----------:|:----------:|\n",
    "| Dictionary |     [ ]    |    𐄂    |    ✓    |    ✓    |      𐄂     |   HashMap  |\n",
    "| List       |     { }    |    ✓    |    ✓    |    𐄂    |      ✓     |  ArrayList |\n",
    "| Tuple      |     ( )    |    ✓    |    𐄂    |    ✓    |      ✓     |    Enum*   |\n",
    "\n",
    "> Enum but with duplicates...\n"
   ],
   "id": "4d0bd6add15f9132"
  },
  {
   "metadata": {
    "ExecuteTime": {
     "end_time": "2025-04-06T11:38:53.923713Z",
     "start_time": "2025-04-06T11:38:53.917193Z"
    }
   },
   "cell_type": "code",
   "source": [
    "# Python List (like ArrayList)\n",
    "print(\"----------------------- Python List --------------------------------\")\n",
    "my_list = [1, \"apple\", 3.14, True]  # List can hold different types\n",
    "my_list.append(\"banana\") # Lists are mutable and can be changed\n",
    "print(f\"List: {my_list}\")\n",
    "print(f\"First element: {my_list[0]}\")\n",
    "\n",
    "print(\"-------------------- Python Dictionaries ----------------------------\")\n",
    "# Python Dictionaries are Key-Value maps (like HashMap)\n",
    "my_dict = {\"name\": \"Alice\", \"age\": 30, \"city\": \"New York\"}\n",
    "my_dict[\"email\"] = \"alice@example.com\"\n",
    "print(f\"Dictionary: {my_dict}\")\n",
    "print(f\"Name: {my_dict['name']}\")\n",
    "\n",
    "\n",
    "print(\"----------------------- Python Tuple --------------------------------\")\n",
    "# Python Tuple is an immutable List similar to Enums\n",
    "# no way to change the tuple after it is created\n",
    "days = ('Sunday', 'Monday', 'Tuesday', 'Wednesday', 'Thursday', 'Friday', 'Saturday')\n",
    "\n",
    "print(type(days))\n",
    "print(days) # calling the tuple to_string method\n",
    "print('days size is: ', len(days))\n",
    "\n",
    "if \"Sunday\" in days:\n",
    "    print(\"Yes, 'Sunday' is in the days tuple\")\n",
    "\n",
    "for day in days:\n",
    "    if days.index(day) % 2 == 0: # locate the index of the day in the tuple\n",
    "        print('It\\'s an odd day: '  + day)\n",
    "\n",
    "\n",
    "# Although tuples are immutable, you can concatenate tuples together:\n",
    "additional_days = (\"Rainday\", \"Snowday\", \"Windday\", \"Stormday\")\n",
    "days += additional_days # 'days' references to a new tuple so its not mutation\n",
    "\n",
    "print('days is now extended' , days)\n",
    "\n",
    "# But you can still replace the entire tuple to reference a new one (Python GC will remove the old one)\n",
    "days = ('Sunday', 'Sunday', 'Sunday')\n",
    "print('days is now a different tuple' , days)\n",
    "\n",
    "\n"
   ],
   "id": "534f32e80db2cf83",
   "outputs": [
    {
     "name": "stdout",
     "output_type": "stream",
     "text": [
      "----------------------- Python List --------------------------------\n",
      "List: [1, 'apple', 3.14, True, 'banana']\n",
      "First element: 1\n",
      "-------------------- Python Dictionaries ----------------------------\n",
      "Dictionary: {'name': 'Alice', 'age': 30, 'city': 'New York', 'email': 'alice@example.com'}\n",
      "Name: Alice\n",
      "----------------------- Python Tuple --------------------------------\n",
      "<class 'tuple'>\n",
      "('Sunday', 'Monday', 'Tuesday', 'Wednesday', 'Thursday', 'Friday', 'Saturday')\n",
      "days size is:  7\n",
      "Yes, 'Sunday' is in the days tuple\n",
      "It's an odd day: Sunday\n",
      "It's an odd day: Tuesday\n",
      "It's an odd day: Thursday\n",
      "It's an odd day: Saturday\n",
      "days is now extended ('Sunday', 'Monday', 'Tuesday', 'Wednesday', 'Thursday', 'Friday', 'Saturday', 'Rainday', 'Snowday', 'Windday', 'Stormday')\n",
      "days is now a different tuple ('Sunday', 'Sunday', 'Sunday')\n"
     ]
    }
   ],
   "execution_count": 4
  },
  {
   "metadata": {},
   "cell_type": "markdown",
   "source": [
    "## Enums\n",
    "And how its done in python"
   ],
   "id": "ea1f2dda3722c292"
  },
  {
   "metadata": {
    "ExecuteTime": {
     "end_time": "2025-04-06T11:38:53.991030Z",
     "start_time": "2025-04-06T11:38:53.984145Z"
    }
   },
   "cell_type": "code",
   "source": [
    "from enum import Enum, auto\n",
    "\n",
    "# Define an Enum for days of the week\n",
    "class Day(Enum):\n",
    "    SUNDAY = 1\n",
    "    MONDAY = 2\n",
    "    TUESDAY = 3\n",
    "    WEDNESDAY = 4\n",
    "    THURSDAY = 5\n",
    "    FRIDAY = 6\n",
    "    SATURDAY = 7\n",
    "\n",
    "# --- How to use the Enum ---\n",
    "\n",
    "# Accessing members\n",
    "today = Day.THURSDAY\n",
    "print(f\"Today is: {today}\") # Output: Today is: Day.THURSDAY\n",
    "\n",
    "# Getting the name and value\n",
    "print(f\"Name: {today.name}\")     # Output: Name: THURSDAY\n",
    "print(f\"Value: {today.value}\")   # Output: Value: 5\n",
    "\n",
    "# Comparison\n",
    "if today == Day.THURSDAY:\n",
    "    print(\"It's Thursday!\") # Output: It's Thursday!\n",
    "\n",
    "if today is Day.THURSDAY:\n",
    "    print(\"It's definitely Thursday (identity check)!\") # Output: It's definitely Thursday (identity check)!\n",
    "\n",
    "# Iterating over members\n",
    "print(\"\\nAll days:\")\n",
    "for day in Day:\n",
    "    print(f\"- {day.name} ({day.value})\")\n",
    "\n",
    "# Accessing by value (less common, but possible)\n",
    "day_from_value = Day(6)\n",
    "print(f\"\\nDay with value 6: {day_from_value}\") # Output: Day with value 6: Day.FRIDAY\n",
    "\n",
    "# You can also use enum `auto()` method for automatic value assignment\n",
    "class Status(Enum):\n",
    "    PENDING = auto()\n",
    "    PROCESSING = auto()\n",
    "    COMPLETED = auto()\n",
    "    FAILED = auto()\n",
    "\n",
    "print(f\"\\nStatus example: {Status.PROCESSING}\")       # Output: Status example: Status.PROCESSING\n",
    "print(f\"Status value: {Status.PROCESSING.value}\") # Output: Status value: 2 (or similar, depends on order)"
   ],
   "id": "992bc9a0db2e54ca",
   "outputs": [
    {
     "name": "stdout",
     "output_type": "stream",
     "text": [
      "Today is: Day.THURSDAY\n",
      "Name: THURSDAY\n",
      "Value: 5\n",
      "It's Thursday!\n",
      "It's definitely Thursday (identity check)!\n",
      "\n",
      "All days:\n",
      "- SUNDAY (1)\n",
      "- MONDAY (2)\n",
      "- TUESDAY (3)\n",
      "- WEDNESDAY (4)\n",
      "- THURSDAY (5)\n",
      "- FRIDAY (6)\n",
      "- SATURDAY (7)\n",
      "\n",
      "Day with value 6: Day.FRIDAY\n",
      "\n",
      "Status example: Status.PROCESSING\n",
      "Status value: 2\n"
     ]
    }
   ],
   "execution_count": 5
  },
  {
   "metadata": {},
   "cell_type": "markdown",
   "source": [
    "## Control Flow\n",
    "\n",
    "Topics:\n",
    "- [x] Looping with iterator\n",
    "- [X] Looping with list comprehension\n",
    "- [X] Looping with enumerate\n",
    "- [X] Looping with range\n",
    "\n"
   ],
   "id": "2773d9aec14ebfab"
  },
  {
   "metadata": {
    "ExecuteTime": {
     "end_time": "2025-04-06T11:38:54.035477Z",
     "start_time": "2025-04-06T11:38:54.030386Z"
    }
   },
   "cell_type": "code",
   "source": [
    "fruits = [\"apple\", \"banana\", \"cherry\", \"pineapple\"]\n",
    "\n",
    "print(\"\\nLooping with iterator:\")\n",
    "for fruit in fruits:\n",
    "    print(fruit)\n",
    "\n",
    "print(\"\\nLooping   with range:\")\n",
    "for i in range(len(fruits)):\n",
    "    print(f\"Index: {i}, Fruit: {fruits[i]}\")\n",
    "\n",
    "print(\"\\nKey-Value Looping with dictionary:\")\n",
    "fruits_colors_dict = {\"apple\": \"Red\", \"banana\": \"Yellow\", \"cherry\": \"Red\", \"pineapple\": \"Brown\"}\n",
    "\n",
    "for fruit, color in fruits_colors_dict.items():\n",
    "    print(f\"Fruit: {fruit}, Color: {color}\")\n"
   ],
   "id": "2a04a66027f874cf",
   "outputs": [
    {
     "name": "stdout",
     "output_type": "stream",
     "text": [
      "\n",
      "Looping with iterator:\n",
      "apple\n",
      "banana\n",
      "cherry\n",
      "pineapple\n",
      "\n",
      "Looping   with range:\n",
      "Index: 0, Fruit: apple\n",
      "Index: 1, Fruit: banana\n",
      "Index: 2, Fruit: cherry\n",
      "Index: 3, Fruit: pineapple\n",
      "\n",
      "Key-Value Looping with dictionary:\n",
      "Fruit: apple, Color: Red\n",
      "Fruit: banana, Color: Yellow\n",
      "Fruit: cherry, Color: Red\n",
      "Fruit: pineapple, Color: Brown\n"
     ]
    }
   ],
   "execution_count": 6
  },
  {
   "metadata": {},
   "cell_type": "markdown",
   "source": [
    "## Object Oriented Programming\n",
    "Python is an object-oriented programming language. It supports classes and objects.<br>\n",
    "You can create classes and objects, and use inheritance, polymorphism, and encapsulation.\n",
    "\n",
    "Topics\n",
    "\n",
    "* [x] Class definition\n",
    "* [X] Constructor\n",
    "* [X] Methods\n",
    "* [X] Instance variables\n"
   ],
   "id": "b23aee4b726347bf"
  },
  {
   "metadata": {
    "ExecuteTime": {
     "end_time": "2025-04-06T11:38:54.060360Z",
     "start_time": "2025-04-06T11:38:54.054306Z"
    }
   },
   "cell_type": "code",
   "source": [
    "# Python Class definition\n",
    "class Dog:\n",
    "    # Constructor\n",
    "    def __init__(self, name, breed):\n",
    "        self.name = name # Instance variable\n",
    "        self.breed = breed # Instance variable\n",
    "\n",
    "    # Instance method (requires 'self')\n",
    "    def bark(self):\n",
    "        print(f\"{self.name} says Woof!\")\n",
    "\n",
    "# Creating an object (instance)\n",
    "my_dog = Dog(\"Buddy\", \"Golden Retriever\")\n",
    "print(f\"Dog's name: {my_dog.name} of breed {my_dog.breed}\")\n",
    "my_dog.bark()"
   ],
   "id": "4cd125c28be87acc",
   "outputs": [
    {
     "name": "stdout",
     "output_type": "stream",
     "text": [
      "Dog's name: Buddy of breed Golden Retriever\n",
      "Buddy says Woof!\n"
     ]
    }
   ],
   "execution_count": 7
  },
  {
   "metadata": {},
   "cell_type": "markdown",
   "source": [
    "### Class and Static Methods\n",
    "Similar to Java, Python allows you to define class variables and static methods. </br>\n"
   ],
   "id": "8a337ba305745a42"
  },
  {
   "metadata": {},
   "cell_type": "code",
   "outputs": [],
   "execution_count": null,
   "source": [
    "import datetime\n",
    "\n",
    "class Employee:\n",
    "    # Class (static) variable (shared by all instances)\n",
    "    num_employees = 0\n",
    "    raise_amount = 1.04\n",
    "\n",
    "    def __init__(self, first, last, pay):\n",
    "        # Instance variables\n",
    "        self.first = first\n",
    "        self.last = last\n",
    "        self.pay = pay\n",
    "        self.email = f\"{first}.{last}@company.com\"\n",
    "\n",
    "        # Modify class state when an instance is created\n",
    "        Employee.num_employees += 1\n",
    "\n",
    "    # Regular instance method (receives self)\n",
    "    def fullname(self):\n",
    "        return f\"{self.first} {self.last}\"\n",
    "\n",
    "    # Regular instance method\n",
    "    def apply_raise(self):\n",
    "        self.pay = int(self.pay * self.raise_amount) # Accesses instance var AND class var (via self)\n",
    "\n",
    "    # Class method (receives cls)\n",
    "    @classmethod\n",
    "    def get_num_employees(cls):\n",
    "        \"\"\"Returns the total number of employees.\"\"\"\n",
    "        return cls.num_employees # Accesses class variable via cls\n",
    "\n",
    "    # Class method (receives cls)\n",
    "    @classmethod\n",
    "    def set_raise_amount(cls, amount):\n",
    "        \"\"\"Sets the raise amount for ALL employees.\"\"\"\n",
    "        cls.raise_amount = amount # Modifies class variable via cls\n",
    "\n",
    "    # Class method used as an alternative constructor\n",
    "    @classmethod\n",
    "    def from_string(cls, emp_str):\n",
    "        \"\"\"Creates an Employee instance from a hyphen-separated string.\"\"\"\n",
    "        first, last, pay_str = emp_str.split('-')\n",
    "        pay = int(pay_str)\n",
    "        # Creates and returns a new instance of the class (cls)\n",
    "        return cls(first, last, pay)\n",
    "\n",
    "    # Static method (receives no implicit self or cls)\n",
    "    @staticmethod\n",
    "    def is_workday(day):\n",
    "        \"\"\"Checks if a given date is a weekday.\"\"\"\n",
    "        # Doesn't need access to instance or class specifics\n",
    "        if day.weekday() == 5 or day.weekday() == 6: # Saturday or Sunday\n",
    "            return False\n",
    "        return True\n",
    "\n",
    "# --- Usage ---\n",
    "\n",
    "print(f\"Initial number of employees: {Employee.get_num_employees()}\") # Call on class\n",
    "\n",
    "emp_1 = Employee(\"Corey\", \"Schafer\", 50000)\n",
    "emp_2 = Employee(\"Test\", \"User\", 60000)\n",
    "\n",
    "print(f\"Number of employees now: {emp_1.get_num_employees()}\") # Can also call on instance\n",
    "\n",
    "print(f\"Initial raise amount: {Employee.raise_amount}\")\n",
    "Employee.set_raise_amount(1.05) # Call class method on class to change class state\n",
    "print(f\"New raise amount: {emp_1.raise_amount}\") # Change reflected via instances too\n",
    "print(f\"New raise amount: {emp_2.raise_amount}\")\n",
    "\n",
    "# Using the alternative constructor\n",
    "emp_str_3 = \"John-Doe-70000\"\n",
    "emp_3 = Employee.from_string(emp_str_3)\n",
    "print(f\"\\nCreated employee from string: {emp_3.fullname()}, Email: {emp_3.email}\")\n",
    "print(f\"Number of employees finally: {Employee.get_num_employees()}\")\n",
    "\n",
    "# Using the static method\n",
    "my_date = datetime.date(2025, 4, 6) # A Sunday\n",
    "print(f\"\\nIs {my_date} a workday? {Employee.is_workday(my_date)}\")"
   ],
   "id": "afc565f484e69922"
  },
  {
   "metadata": {},
   "cell_type": "markdown",
   "source": "###  Inheritance & Polymorphism",
   "id": "4d099750b0060ef6"
  },
  {
   "metadata": {
    "ExecuteTime": {
     "end_time": "2025-04-06T11:38:54.079746Z",
     "start_time": "2025-04-06T11:38:54.074837Z"
    }
   },
   "cell_type": "code",
   "source": [
    "class Animal:\n",
    "    def __init__(self, name):\n",
    "        self.name = name\n",
    "\n",
    "    def speak(self):\n",
    "        print(f\"{self.name} makes a sound.\")\n",
    "\n",
    "class Dog(Animal):\n",
    "    def speak(self):\n",
    "        print(f\"{self.name} barks.\")\n",
    "\n",
    "class Cat(Animal):\n",
    "    def speak(self):\n",
    "        print(f\"{self.name} meows.\")\n",
    "\n",
    "# Polymorphism\n",
    "\n",
    "def animal_sound(animal: Animal):\n",
    "    animal.speak()\n",
    "\n",
    "# Creating instances\n",
    "dog = Dog(\"Buddy\")\n",
    "cat = Cat(\"Whiskers\")\n",
    "animal_sound(dog)  # Output: Buddy barks.\n",
    "animal_sound(cat)  # Output: Whiskers meows."
   ],
   "id": "a5575d0fc74c80f8",
   "outputs": [
    {
     "name": "stdout",
     "output_type": "stream",
     "text": [
      "Buddy barks.\n",
      "Whiskers meows.\n"
     ]
    }
   ],
   "execution_count": 8
  },
  {
   "metadata": {},
   "cell_type": "markdown",
   "source": [
    "### Pydantic\n",
    "Pydantic is the most widely used data validation library for Python.  </br>\n",
    "It allows you to define data models using Python classes and provides automatic validation, serialization, and deserialization of data.\n",
    "Its a very powerful library that is used in many projects in the open source community, including FastAPI and LangChain. </br>\n",
    "\n",
    "Think of it like combining Java's data classes/POJOs with Bean Validation (JSR 380) and aspects of JSON mapping libraries (like Jackson/Gson), but leveraging Python's dynamic nature and type hints."
   ],
   "id": "c7bb15145c728f92"
  },
  {
   "metadata": {
    "ExecuteTime": {
     "end_time": "2025-04-09T12:05:21.345526Z",
     "start_time": "2025-04-09T12:05:21.328290Z"
    }
   },
   "cell_type": "code",
   "source": [
    "# Requires installation: pip install pydantic\n",
    "from pydantic import BaseModel\n",
    "from datetime import datetime\n",
    "\n",
    "# Define a data structure using a class inheriting from BaseModel\n",
    "class User(BaseModel):\n",
    "    id: int\n",
    "    name: str\n",
    "    signup: datetime | None = None # Optional datetime, accepts None\n",
    "\n",
    "# Create an instance - Pydantic validates the data during creation\n",
    "user_data = {\"id\": 123, \"name\": \"Alice\"}\n",
    "user_object = User(**user_data) # Unpack dict into keyword arguments\n",
    "\n",
    "print(user_object)\n",
    "\n",
    "# Expected Output: id=123 name='Alice' signup_ts=None"
   ],
   "id": "c9c25ffdf1afdf0a",
   "outputs": [
    {
     "name": "stdout",
     "output_type": "stream",
     "text": [
      "id=123 name='Alice' signup=None\n"
     ]
    },
    {
     "ename": "TypeError",
     "evalue": "'id' is an invalid keyword argument for print()",
     "output_type": "error",
     "traceback": [
      "\u001B[1;31m---------------------------------------------------------------------------\u001B[0m",
      "\u001B[1;31mTypeError\u001B[0m                                 Traceback (most recent call last)",
      "Cell \u001B[1;32mIn[16], line 16\u001B[0m\n\u001B[0;32m     13\u001B[0m user_object \u001B[38;5;241m=\u001B[39m User(\u001B[38;5;241m*\u001B[39m\u001B[38;5;241m*\u001B[39muser_data) \u001B[38;5;66;03m# Unpack dict into keyword arguments\u001B[39;00m\n\u001B[0;32m     15\u001B[0m \u001B[38;5;28mprint\u001B[39m(user_object)\n\u001B[1;32m---> 16\u001B[0m \u001B[38;5;28;43mprint\u001B[39;49m\u001B[43m(\u001B[49m\u001B[38;5;241;43m*\u001B[39;49m\u001B[38;5;241;43m*\u001B[39;49m\u001B[43muser_data\u001B[49m\u001B[43m)\u001B[49m\n\u001B[0;32m     17\u001B[0m \u001B[38;5;66;03m# Expected Output: id=123 name='Alice' signup_ts=None\u001B[39;00m\n",
      "\u001B[1;31mTypeError\u001B[0m: 'id' is an invalid keyword argument for print()"
     ]
    }
   ],
   "execution_count": 16
  },
  {
   "metadata": {},
   "cell_type": "markdown",
   "source": "### Pydantic Validation",
   "id": "36e98396eb2bc0b1"
  },
  {
   "metadata": {
    "ExecuteTime": {
     "end_time": "2025-04-06T11:38:54.237095Z",
     "start_time": "2025-04-06T11:38:54.231222Z"
    }
   },
   "cell_type": "code",
   "source": [
    "from pydantic import BaseModel, ValidationError\n",
    "\n",
    "class Item(BaseModel):\n",
    "    item_id: int\n",
    "    name: str\n",
    "    price: float\n",
    "    is_offer: bool | None = None # Optional boolean\n",
    "\n",
    "# Valid data - note 'item_id' is passed as string but coerced to int\n",
    "valid_data = {\"item_id\": \"456\", \"name\": \"Gadget\", \"price\": 99.99} # makes it easy to work with JSON\n",
    "item = Item(**valid_data)\n",
    "print(f\"Valid item: {item}\")\n",
    "# Expected Output: Valid item: item_id=456 name='Gadget' price=99.99 is_offer=None\n",
    "\n",
    "# Invalid data - 'price' is not a valid float, 'name' is missing\n",
    "invalid_data = {\"item_id\": 789, \"price\": \"ninety-nine\"}\n",
    "try:\n",
    "    Item(**invalid_data)\n",
    "except ValidationError as e:\n",
    "    print(\"\\nValidation Error:\")\n",
    "    print(e)\n",
    "    # Shows detailed errors about missing 'name' and invalid 'price' type"
   ],
   "id": "38ecc025b69d8802",
   "outputs": [
    {
     "name": "stdout",
     "output_type": "stream",
     "text": [
      "Valid item: item_id=456 name='Gadget' price=99.99 is_offer=None\n",
      "\n",
      "Validation Error:\n",
      "2 validation errors for Item\n",
      "name\n",
      "  Field required [type=missing, input_value={'item_id': 789, 'price': 'ninety-nine'}, input_type=dict]\n",
      "    For further information visit https://errors.pydantic.dev/2.10/v/missing\n",
      "price\n",
      "  Input should be a valid number, unable to parse string as a number [type=float_parsing, input_value='ninety-nine', input_type=str]\n",
      "    For further information visit https://errors.pydantic.dev/2.10/v/float_parsing\n"
     ]
    }
   ],
   "execution_count": 10
  },
  {
   "metadata": {},
   "cell_type": "markdown",
   "source": [
    "### Pydantic: Serialization & Optional Fields\n",
    "Pydantic can serialize data models to JSON and handle optional fields easily.\n"
   ],
   "id": "ad23e2c7e2b4d709"
  },
  {
   "metadata": {
    "ExecuteTime": {
     "end_time": "2025-04-06T12:13:48.047703Z",
     "start_time": "2025-04-06T12:13:48.041584Z"
    }
   },
   "cell_type": "code",
   "source": [
    "from typing import Optional, Union\n",
    "from pydantic import BaseModel, Field\n",
    "\n",
    "class Model(BaseModel):\n",
    "    a: str | None = None\n",
    "    b: str = None\n",
    "    c: Union[str, None] = None\n",
    "    d: Optional[str] = None\n",
    "    e: Optional[str] = Field(default=None)\n",
    "    f: Optional[str] = Field(default_factory=lambda: None)\n",
    "\n",
    "obj = Model() # Default values are set to None\n",
    "print(obj.model_dump_json(indent=4))\n",
    "\n",
    "print('Instantiate with keyword arguments')\n",
    "obj2 = Model(a=\"Hello\", b=\"World\", c=\"!\", d=\"Optional\", e=\"Factory\") # with keyword arguments\n",
    "print(obj2.model_dump_json(indent=4))\n"
   ],
   "id": "cafd062a0992d201",
   "outputs": [
    {
     "name": "stdout",
     "output_type": "stream",
     "text": [
      "{\n",
      "    \"a\": null,\n",
      "    \"b\": null,\n",
      "    \"c\": null,\n",
      "    \"d\": null,\n",
      "    \"e\": null,\n",
      "    \"f\": null\n",
      "}\n",
      "{\n",
      "    \"a\": \"Hello\",\n",
      "    \"b\": \"World\",\n",
      "    \"c\": \"!\",\n",
      "    \"d\": \"Optional\",\n",
      "    \"e\": \"Factory\",\n",
      "    \"f\": null\n",
      "}\n"
     ]
    }
   ],
   "execution_count": 15
  },
  {
   "metadata": {},
   "cell_type": "markdown",
   "source": [
    "## Lambda Functions\n",
    "Python supports anonymous functions, also known as lambda functions. </br>\n",
    "\n",
    "Python's lambda keyword creates small, anonymous functions inline.\n",
    "Syntax: `lambda arguments: expression`\n",
    "Characteristics:\n",
    "\n",
    "    Anonymous: No def name associated (unless assigned to a variable, often discouraged).\n",
    "    Inline: Defined where needed, typically as arguments to other functions.\n",
    "    Single Expression: The body can only be a single expression, whose result is implicitly returned. No complex statements (like multi-line if, for, while, try).\n",
    "    Concise: Useful for short, throwaway functions.\n",
    "\n",
    "Comparison to Java: Similar to Java 8+ lambdas ((args) -> expression or (args) -> { statements; }), but Python lambdas are restricted to a single expression.\n",
    "Common Usage: Often used with built-in functions like sorted(), map(), filter(), or GUI callbacks where a simple function object is required.\n",
    "\n"
   ],
   "id": "d6ce3668e5842d63"
  },
  {
   "metadata": {
    "ExecuteTime": {
     "end_time": "2025-04-08T18:11:39.759712Z",
     "start_time": "2025-04-08T18:11:39.745306Z"
    }
   },
   "cell_type": "code",
   "source": [
    "# example for lambda function\n",
    "add = lambda x, y: x + y\n",
    "multiply = lambda x, y: x * y\n",
    "print(add(2, 3)) # Output: 5\n",
    "print(multiply(2, 3)) # Output: 6\n",
    "\n",
    "points = [(1, 2), (3, 1), (5, -4), (2, 3)]\n",
    "\n",
    "# Sort points based on the second element (y-coordinate) using lambda\n",
    "points_sorted_y = sorted(points, key=lambda point: point[1])\n",
    "print(f\"Points sorted by y: {points_sorted_y}\")\n",
    "# Output: Points sorted by y: [(5, -4), (3, 1), (1, 2), (2, 3)]\n",
    "\n",
    "# Using map to square numbers\n",
    "nums = [1, 2, 3, 4, 5]\n",
    "squares = list(map(lambda x: x * x, nums)) # map returns an iterator, convert to list\n",
    "print(f\"Squares: {squares}\")\n",
    "# Output: Squares: [1, 4, 9, 16, 25]\n",
    "\n",
    "# Using filter to get even numbers\n",
    "evens = list(filter(lambda x: x % 2 == 0, nums)) # filter returns an iterator\n",
    "print(f\"Evens: {evens}\")\n",
    "# Output: Evens: [2, 4]\n",
    "\n",
    "# Equivalent using a defined function (more verbose for simple cases)\n",
    "# Similar to Java's Function<T, R> and Predicate<T> interfaces\n",
    "def get_second_element(point):\n",
    "    return point[1]\n",
    "points_sorted_y_def = sorted(points, key=get_second_element)\n",
    "# print(f\"Points sorted by y (def): {points_sorted_y_def}\")\n"
   ],
   "id": "8a7c0c27061f90ed",
   "outputs": [
    {
     "name": "stdout",
     "output_type": "stream",
     "text": [
      "5\n",
      "6\n",
      "Points sorted by y: [(5, -4), (3, 1), (1, 2), (2, 3)]\n",
      "Squares: [1, 4, 9, 16, 25]\n",
      "Evens: [2, 4]\n"
     ]
    }
   ],
   "execution_count": 10
  },
  {
   "metadata": {},
   "cell_type": "markdown",
   "source": "## File I/O\n",
   "id": "52428e9b9c48147b"
  },
  {
   "metadata": {
    "ExecuteTime": {
     "end_time": "2025-04-09T12:11:55.929676Z",
     "start_time": "2025-04-09T12:11:55.924151Z"
    }
   },
   "cell_type": "code",
   "source": [
    "import json\n",
    "from pydantic import BaseModel\n",
    "\n",
    "class TVModel(BaseModel):\n",
    "    name: str\n",
    "    brand: str\n",
    "    size: int\n",
    "    OS: str\n",
    "    panel: str\n",
    "    price: int\n",
    "\n",
    "\n",
    "with open('resources/products.json', 'r') as file:\n",
    "    products = json.load(file) # Load JSON data from file into a Python list\n",
    "    print(type(products))\n",
    "    print(type(products[0])) # each product is a dictionary\n",
    "    products = [TVModel(**product) for product in products] # Convert each dictionary to a TVModel instance using unpacking\n",
    "\n",
    "print(products)\n",
    "\n"
   ],
   "id": "a5b12add5f71bf1b",
   "outputs": [
    {
     "name": "stdout",
     "output_type": "stream",
     "text": [
      "<class 'list'>\n",
      "<class 'dict'>\n",
      "[TVModel(name='TCL 43P635', brand='TCL', size=43, OS='AndroidTV', panel='LED', price=300), TVModel(name='TCL 65P615', brand='TCL', size=65, OS='AndroidTV', panel='LED', price=500), TVModel(name='TCL 75P615', brand='TCL', size=75, OS='AndroidTV', panel='LED', price=800), TVModel(name='TCL 98C735', brand='TCL', size=98, OS='AndroidTV', panel='LED', price=2000), TVModel(name='TCL 65C735', brand='TCL', size=65, OS='AndroidTV', panel='QLED', price=1000), TVModel(name='Hisense 55U7QFIL', brand='Hisense', size=55, OS='VIDAA U4', panel='Quantom ULED', price=600), TVModel(name='Hisense 65U8QFILO', brand='Hisense', size=65, OS='VIDAA U4', panel='Quantom ULED', price=900), TVModel(name='Hisense 50A6K', brand='Hisense', size=50, OS='VIDAA U6', panel='LED', price=400), TVModel(name='Xiaomi L55M6-6ESG', brand='Xiaomi', size=55, OS='AndroidTV', panel='QLED', price=500), TVModel(name='Xiaomi L65M5-5ASP', brand='Xiaomi', size=65, OS='AndroidTV', panel='LED', price=700)]\n"
     ]
    }
   ],
   "execution_count": 18
  }
 ],
 "metadata": {
  "kernelspec": {
   "display_name": "Python 3",
   "language": "python",
   "name": "python3"
  },
  "language_info": {
   "codemirror_mode": {
    "name": "ipython",
    "version": 2
   },
   "file_extension": ".py",
   "mimetype": "text/x-python",
   "name": "python",
   "nbconvert_exporter": "python",
   "pygments_lexer": "ipython2",
   "version": "2.7.6"
  }
 },
 "nbformat": 4,
 "nbformat_minor": 5
}
